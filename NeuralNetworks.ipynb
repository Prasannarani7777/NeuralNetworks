{
 "cells": [
  {
   "cell_type": "code",
   "execution_count": 1,
   "id": "dadfd748",
   "metadata": {},
   "outputs": [],
   "source": [
    "import numpy as np\n",
    "import pandas as pd\n",
    "import matplotlib.pyplot as plt"
   ]
  },
  {
   "cell_type": "code",
   "execution_count": 2,
   "id": "0d34432f",
   "metadata": {},
   "outputs": [],
   "source": [
    "from sklearn.datasets import load_iris"
   ]
  },
  {
   "cell_type": "code",
   "execution_count": 3,
   "id": "2a43f22a",
   "metadata": {},
   "outputs": [],
   "source": [
    "from tensorflow.keras.layers import Dense"
   ]
  },
  {
   "cell_type": "code",
   "execution_count": 4,
   "id": "3f450c0d",
   "metadata": {},
   "outputs": [],
   "source": [
    "from tensorflow.keras.models import Sequential\n",
    "\n",
    "from tensorflow.keras.utils import to_categorical "
   ]
  },
  {
   "cell_type": "code",
   "execution_count": 5,
   "id": "09c693eb",
   "metadata": {},
   "outputs": [],
   "source": [
    "data = load_iris()\n",
    "features = data['data']\n",
    "target = data['target']"
   ]
  },
  {
   "cell_type": "code",
   "execution_count": 6,
   "id": "7cb2e32c",
   "metadata": {},
   "outputs": [],
   "source": [
    "targets = to_categorical(target,num_classes=3)"
   ]
  },
  {
   "cell_type": "code",
   "execution_count": 7,
   "id": "6bbf4470",
   "metadata": {},
   "outputs": [
    {
     "data": {
      "text/plain": [
       "4"
      ]
     },
     "execution_count": 7,
     "metadata": {},
     "output_type": "execute_result"
    }
   ],
   "source": [
    "features.shape[1]"
   ]
  },
  {
   "cell_type": "code",
   "execution_count": 16,
   "id": "62d334a5",
   "metadata": {},
   "outputs": [],
   "source": [
    "from sklearn.model_selection import train_test_split\n",
    "X_train, X_test, y_train, y_test = train_test_split(features,targets)\n",
    "X_train, X_val, y_train, y_val = train_test_split(X_train,y_train)"
   ]
  },
  {
   "cell_type": "code",
   "execution_count": 17,
   "id": "696407fb",
   "metadata": {},
   "outputs": [],
   "source": [
    "model = Sequential()\n",
    "model.add(Dense(100,input_shape=(features.shape[1],)))\n",
    "model.add(Dense(30,activation='relu'))\n",
    "model.add(Dense(12,activation='relu'))\n",
    "model.add(Dense(23,activation='relu'))\n",
    "model.add(Dense(3,activation='relu'))"
   ]
  },
  {
   "cell_type": "code",
   "execution_count": 18,
   "id": "bd53ed5c",
   "metadata": {},
   "outputs": [
    {
     "name": "stdout",
     "output_type": "stream",
     "text": [
      "Model: \"sequential_2\"\n",
      "_________________________________________________________________\n",
      " Layer (type)                Output Shape              Param #   \n",
      "=================================================================\n",
      " dense_5 (Dense)             (None, 100)               500       \n",
      "                                                                 \n",
      " dense_6 (Dense)             (None, 30)                3030      \n",
      "                                                                 \n",
      " dense_7 (Dense)             (None, 12)                372       \n",
      "                                                                 \n",
      " dense_8 (Dense)             (None, 23)                299       \n",
      "                                                                 \n",
      " dense_9 (Dense)             (None, 3)                 72        \n",
      "                                                                 \n",
      "=================================================================\n",
      "Total params: 4,273\n",
      "Trainable params: 4,273\n",
      "Non-trainable params: 0\n",
      "_________________________________________________________________\n"
     ]
    }
   ],
   "source": [
    "model.summary()"
   ]
  },
  {
   "cell_type": "code",
   "execution_count": 19,
   "id": "74fa7cdf",
   "metadata": {},
   "outputs": [],
   "source": [
    "import tensorflow\n",
    "model.compile(optimizer=\"sgd\", loss=tensorflow.keras.losses.CategoricalCrossentropy(),metrics=[\"accuracy\"])"
   ]
  },
  {
   "cell_type": "code",
   "execution_count": 20,
   "id": "5a3c9874",
   "metadata": {},
   "outputs": [
    {
     "name": "stdout",
     "output_type": "stream",
     "text": [
      "Epoch 1/10\n",
      "3/3 [==============================] - 0s 93ms/step - loss: 1.9770 - accuracy: 0.3333 - val_loss: 1.4512 - val_accuracy: 0.2143\n",
      "Epoch 2/10\n",
      "3/3 [==============================] - 0s 13ms/step - loss: 1.2602 - accuracy: 0.3333 - val_loss: 1.3610 - val_accuracy: 0.2143\n",
      "Epoch 3/10\n",
      "3/3 [==============================] - 0s 12ms/step - loss: 1.1996 - accuracy: 0.3333 - val_loss: 1.3069 - val_accuracy: 0.2143\n",
      "Epoch 4/10\n",
      "3/3 [==============================] - 0s 11ms/step - loss: 1.1633 - accuracy: 0.3333 - val_loss: 1.2702 - val_accuracy: 0.2143\n",
      "Epoch 5/10\n",
      "3/3 [==============================] - 0s 14ms/step - loss: 1.1393 - accuracy: 0.3333 - val_loss: 1.2427 - val_accuracy: 0.2143\n",
      "Epoch 6/10\n",
      "3/3 [==============================] - 0s 13ms/step - loss: 1.1223 - accuracy: 0.3333 - val_loss: 1.2158 - val_accuracy: 0.2143\n",
      "Epoch 7/10\n",
      "3/3 [==============================] - 0s 12ms/step - loss: 1.1072 - accuracy: 0.3333 - val_loss: 1.1983 - val_accuracy: 0.2143\n",
      "Epoch 8/10\n",
      "3/3 [==============================] - 0s 12ms/step - loss: 1.0951 - accuracy: 0.3333 - val_loss: 1.1800 - val_accuracy: 0.2143\n",
      "Epoch 9/10\n",
      "3/3 [==============================] - 0s 13ms/step - loss: 1.0851 - accuracy: 0.3333 - val_loss: 1.1675 - val_accuracy: 0.2143\n",
      "Epoch 10/10\n",
      "3/3 [==============================] - 0s 16ms/step - loss: 1.0779 - accuracy: 0.3333 - val_loss: 1.1567 - val_accuracy: 0.2143\n"
     ]
    },
    {
     "data": {
      "text/plain": [
       "<keras.callbacks.History at 0x22d55667d30>"
      ]
     },
     "execution_count": 20,
     "metadata": {},
     "output_type": "execute_result"
    }
   ],
   "source": [
    "model.fit(X_train, y_train, epochs=10, validation_data=(X_val,y_val))"
   ]
  },
  {
   "cell_type": "code",
   "execution_count": 27,
   "id": "9a30704e",
   "metadata": {},
   "outputs": [],
   "source": [
    "y_pred = model.predict(X_test)"
   ]
  },
  {
   "cell_type": "markdown",
   "id": "f6749e02",
   "metadata": {},
   "source": [
    "# Preprocessing Code"
   ]
  },
  {
   "cell_type": "code",
   "execution_count": 30,
   "id": "56633b15",
   "metadata": {},
   "outputs": [],
   "source": [
    "model.save(\"NN.h5\")"
   ]
  },
  {
   "cell_type": "code",
   "execution_count": 31,
   "id": "9bd10fc3",
   "metadata": {},
   "outputs": [],
   "source": [
    "from tensorflow.keras.models import load_model"
   ]
  },
  {
   "cell_type": "code",
   "execution_count": 32,
   "id": "e6b0e9e2",
   "metadata": {},
   "outputs": [],
   "source": [
    "model = load_model(\"./NN.h5\")"
   ]
  },
  {
   "cell_type": "code",
   "execution_count": 34,
   "id": "c01c3604",
   "metadata": {},
   "outputs": [],
   "source": [
    "clas = model.predict([[0.2,0.3,0.4,0.5]])"
   ]
  },
  {
   "cell_type": "code",
   "execution_count": 35,
   "id": "c3321f4b",
   "metadata": {},
   "outputs": [
    {
     "data": {
      "text/plain": [
       "array([[0.46134028, 0.49564236, 0.2064752 ]], dtype=float32)"
      ]
     },
     "execution_count": 35,
     "metadata": {},
     "output_type": "execute_result"
    }
   ],
   "source": [
    "clas"
   ]
  },
  {
   "cell_type": "code",
   "execution_count": 37,
   "id": "6a571999",
   "metadata": {},
   "outputs": [
    {
     "data": {
      "text/plain": [
       "1"
      ]
     },
     "execution_count": 37,
     "metadata": {},
     "output_type": "execute_result"
    }
   ],
   "source": [
    "np.argmax(clas)"
   ]
  },
  {
   "cell_type": "code",
   "execution_count": null,
   "id": "f65a98d0",
   "metadata": {},
   "outputs": [],
   "source": [
    "classes= [\"class1\",\"\"]"
   ]
  }
 ],
 "metadata": {
  "kernelspec": {
   "display_name": "Python 3 (ipykernel)",
   "language": "python",
   "name": "python3"
  },
  "language_info": {
   "codemirror_mode": {
    "name": "ipython",
    "version": 3
   },
   "file_extension": ".py",
   "mimetype": "text/x-python",
   "name": "python",
   "nbconvert_exporter": "python",
   "pygments_lexer": "ipython3",
   "version": "3.9.7"
  }
 },
 "nbformat": 4,
 "nbformat_minor": 5
}
